{
 "cells": [
  {
   "cell_type": "code",
   "execution_count": 1,
   "id": "059688cf",
   "metadata": {
    "execution": {
     "iopub.execute_input": "2022-01-21T11:58:58.629333Z",
     "iopub.status.busy": "2022-01-21T11:58:58.620895Z",
     "iopub.status.idle": "2022-01-21T11:59:00.283063Z",
     "shell.execute_reply": "2022-01-21T11:59:00.282187Z",
     "shell.execute_reply.started": "2022-01-21T11:55:45.757841Z"
    },
    "papermill": {
     "duration": 1.678495,
     "end_time": "2022-01-21T11:59:00.283553",
     "exception": false,
     "start_time": "2022-01-21T11:58:58.605058",
     "status": "completed"
    },
    "tags": []
   },
   "outputs": [],
   "source": [
    "from numpy import mean\n",
    "from numpy import std\n",
    "import numpy as np\n",
    "import pandas as pd\n",
    "from sklearn.datasets import make_regression\n",
    "from sklearn.model_selection import cross_val_score\n",
    "from sklearn.model_selection import RepeatedKFold\n",
    "from sklearn.ensemble import RandomForestRegressor"
   ]
  },
  {
   "cell_type": "code",
   "execution_count": 2,
   "id": "11bc13c3",
   "metadata": {
    "execution": {
     "iopub.execute_input": "2022-01-21T11:59:00.312073Z",
     "iopub.status.busy": "2022-01-21T11:59:00.311306Z",
     "iopub.status.idle": "2022-01-21T11:59:00.331706Z",
     "shell.execute_reply": "2022-01-21T11:59:00.331030Z",
     "shell.execute_reply.started": "2022-01-21T11:55:50.608975Z"
    },
    "papermill": {
     "duration": 0.036957,
     "end_time": "2022-01-21T11:59:00.331847",
     "exception": false,
     "start_time": "2022-01-21T11:59:00.294890",
     "status": "completed"
    },
    "tags": []
   },
   "outputs": [],
   "source": [
    "db=pd.read_csv('../input/diabetes-data/diabetes.csv')"
   ]
  },
  {
   "cell_type": "code",
   "execution_count": 3,
   "id": "132eac55",
   "metadata": {
    "execution": {
     "iopub.execute_input": "2022-01-21T11:59:00.350414Z",
     "iopub.status.busy": "2022-01-21T11:59:00.349606Z",
     "iopub.status.idle": "2022-01-21T11:59:00.372342Z",
     "shell.execute_reply": "2022-01-21T11:59:00.372777Z",
     "shell.execute_reply.started": "2022-01-21T11:56:08.861814Z"
    },
    "papermill": {
     "duration": 0.033832,
     "end_time": "2022-01-21T11:59:00.372928",
     "exception": false,
     "start_time": "2022-01-21T11:59:00.339096",
     "status": "completed"
    },
    "tags": []
   },
   "outputs": [
    {
     "data": {
      "text/html": [
       "<div>\n",
       "<style scoped>\n",
       "    .dataframe tbody tr th:only-of-type {\n",
       "        vertical-align: middle;\n",
       "    }\n",
       "\n",
       "    .dataframe tbody tr th {\n",
       "        vertical-align: top;\n",
       "    }\n",
       "\n",
       "    .dataframe thead th {\n",
       "        text-align: right;\n",
       "    }\n",
       "</style>\n",
       "<table border=\"1\" class=\"dataframe\">\n",
       "  <thead>\n",
       "    <tr style=\"text-align: right;\">\n",
       "      <th></th>\n",
       "      <th>Pregnancies</th>\n",
       "      <th>Glucose</th>\n",
       "      <th>BloodPressure</th>\n",
       "      <th>SkinThickness</th>\n",
       "      <th>Insulin</th>\n",
       "      <th>BMI</th>\n",
       "      <th>DiabetesPedigreeFunction</th>\n",
       "      <th>Age</th>\n",
       "      <th>Outcome</th>\n",
       "    </tr>\n",
       "  </thead>\n",
       "  <tbody>\n",
       "    <tr>\n",
       "      <th>0</th>\n",
       "      <td>6</td>\n",
       "      <td>148</td>\n",
       "      <td>72</td>\n",
       "      <td>35</td>\n",
       "      <td>0</td>\n",
       "      <td>33.6</td>\n",
       "      <td>0.627</td>\n",
       "      <td>50</td>\n",
       "      <td>1</td>\n",
       "    </tr>\n",
       "    <tr>\n",
       "      <th>1</th>\n",
       "      <td>1</td>\n",
       "      <td>85</td>\n",
       "      <td>66</td>\n",
       "      <td>29</td>\n",
       "      <td>0</td>\n",
       "      <td>26.6</td>\n",
       "      <td>0.351</td>\n",
       "      <td>31</td>\n",
       "      <td>0</td>\n",
       "    </tr>\n",
       "    <tr>\n",
       "      <th>2</th>\n",
       "      <td>8</td>\n",
       "      <td>183</td>\n",
       "      <td>64</td>\n",
       "      <td>0</td>\n",
       "      <td>0</td>\n",
       "      <td>23.3</td>\n",
       "      <td>0.672</td>\n",
       "      <td>32</td>\n",
       "      <td>1</td>\n",
       "    </tr>\n",
       "    <tr>\n",
       "      <th>3</th>\n",
       "      <td>1</td>\n",
       "      <td>89</td>\n",
       "      <td>66</td>\n",
       "      <td>23</td>\n",
       "      <td>94</td>\n",
       "      <td>28.1</td>\n",
       "      <td>0.167</td>\n",
       "      <td>21</td>\n",
       "      <td>0</td>\n",
       "    </tr>\n",
       "    <tr>\n",
       "      <th>4</th>\n",
       "      <td>0</td>\n",
       "      <td>137</td>\n",
       "      <td>40</td>\n",
       "      <td>35</td>\n",
       "      <td>168</td>\n",
       "      <td>43.1</td>\n",
       "      <td>2.288</td>\n",
       "      <td>33</td>\n",
       "      <td>1</td>\n",
       "    </tr>\n",
       "  </tbody>\n",
       "</table>\n",
       "</div>"
      ],
      "text/plain": [
       "   Pregnancies  Glucose  BloodPressure  SkinThickness  Insulin   BMI  \\\n",
       "0            6      148             72             35        0  33.6   \n",
       "1            1       85             66             29        0  26.6   \n",
       "2            8      183             64              0        0  23.3   \n",
       "3            1       89             66             23       94  28.1   \n",
       "4            0      137             40             35      168  43.1   \n",
       "\n",
       "   DiabetesPedigreeFunction  Age  Outcome  \n",
       "0                     0.627   50        1  \n",
       "1                     0.351   31        0  \n",
       "2                     0.672   32        1  \n",
       "3                     0.167   21        0  \n",
       "4                     2.288   33        1  "
      ]
     },
     "execution_count": 3,
     "metadata": {},
     "output_type": "execute_result"
    }
   ],
   "source": [
    "db.head()"
   ]
  },
  {
   "cell_type": "code",
   "execution_count": 4,
   "id": "b01d6803",
   "metadata": {
    "execution": {
     "iopub.execute_input": "2022-01-21T11:59:00.391016Z",
     "iopub.status.busy": "2022-01-21T11:59:00.390495Z",
     "iopub.status.idle": "2022-01-21T11:59:00.399298Z",
     "shell.execute_reply": "2022-01-21T11:59:00.399836Z",
     "shell.execute_reply.started": "2022-01-21T11:56:23.287052Z"
    },
    "papermill": {
     "duration": 0.019401,
     "end_time": "2022-01-21T11:59:00.400029",
     "exception": false,
     "start_time": "2022-01-21T11:59:00.380628",
     "status": "completed"
    },
    "tags": []
   },
   "outputs": [
    {
     "data": {
      "text/plain": [
       "Pregnancies                 0\n",
       "Glucose                     0\n",
       "BloodPressure               0\n",
       "SkinThickness               0\n",
       "Insulin                     0\n",
       "BMI                         0\n",
       "DiabetesPedigreeFunction    0\n",
       "Age                         0\n",
       "Outcome                     0\n",
       "dtype: int64"
      ]
     },
     "execution_count": 4,
     "metadata": {},
     "output_type": "execute_result"
    }
   ],
   "source": [
    "db.isnull().sum()"
   ]
  },
  {
   "cell_type": "code",
   "execution_count": 5,
   "id": "5722e56d",
   "metadata": {
    "execution": {
     "iopub.execute_input": "2022-01-21T11:59:00.419598Z",
     "iopub.status.busy": "2022-01-21T11:59:00.418902Z",
     "iopub.status.idle": "2022-01-21T11:59:00.427528Z",
     "shell.execute_reply": "2022-01-21T11:59:00.428031Z",
     "shell.execute_reply.started": "2022-01-21T11:56:38.759870Z"
    },
    "papermill": {
     "duration": 0.01995,
     "end_time": "2022-01-21T11:59:00.428232",
     "exception": false,
     "start_time": "2022-01-21T11:59:00.408282",
     "status": "completed"
    },
    "tags": []
   },
   "outputs": [],
   "source": [
    "x2=db.iloc[:,0:8]\n",
    "y2=db.iloc[:,8]\n"
   ]
  },
  {
   "cell_type": "code",
   "execution_count": 6,
   "id": "23e3bbd9",
   "metadata": {
    "execution": {
     "iopub.execute_input": "2022-01-21T11:59:00.446850Z",
     "iopub.status.busy": "2022-01-21T11:59:00.446313Z",
     "iopub.status.idle": "2022-01-21T11:59:00.454096Z",
     "shell.execute_reply": "2022-01-21T11:59:00.454687Z",
     "shell.execute_reply.started": "2022-01-21T11:56:51.885795Z"
    },
    "papermill": {
     "duration": 0.018757,
     "end_time": "2022-01-21T11:59:00.454865",
     "exception": false,
     "start_time": "2022-01-21T11:59:00.436108",
     "status": "completed"
    },
    "tags": []
   },
   "outputs": [],
   "source": [
    "from sklearn.model_selection import train_test_split\n",
    "\n",
    "#split data into train and test sets\n",
    "x2_train, x2_test, y2_train, y2_test = train_test_split(x2, y2, test_size=0.2,random_state=1)"
   ]
  },
  {
   "cell_type": "code",
   "execution_count": 7,
   "id": "0abc6100",
   "metadata": {
    "execution": {
     "iopub.execute_input": "2022-01-21T11:59:00.473996Z",
     "iopub.status.busy": "2022-01-21T11:59:00.473378Z",
     "iopub.status.idle": "2022-01-21T11:59:05.396633Z",
     "shell.execute_reply": "2022-01-21T11:59:05.397454Z",
     "shell.execute_reply.started": "2022-01-21T11:57:46.262123Z"
    },
    "papermill": {
     "duration": 4.934797,
     "end_time": "2022-01-21T11:59:05.397685",
     "exception": false,
     "start_time": "2022-01-21T11:59:00.462888",
     "status": "completed"
    },
    "tags": []
   },
   "outputs": [
    {
     "name": "stdout",
     "output_type": "stream",
     "text": [
      "{'n_estimators': 200}\n"
     ]
    }
   ],
   "source": [
    "import numpy as np\n",
    "from sklearn.datasets import make_classification\n",
    "from sklearn.model_selection import StratifiedKFold\n",
    "from sklearn.ensemble import RandomForestClassifier\n",
    "from sklearn import model_selection\n",
    "from sklearn.model_selection import KFold\n",
    "from sklearn.model_selection import GridSearchCV\n",
    "import matplotlib.pyplot as plt\n",
    "##2) RANDOM FOREST\n",
    "from sklearn.ensemble import RandomForestClassifier\n",
    "\n",
    "#create a new random forest classifier\n",
    "rf = RandomForestClassifier()\n",
    "\n",
    "#create a dictionary of all values we want to test for n_estimators\n",
    "params_rf = {'n_estimators': [50, 100, 200]}\n",
    "\n",
    "#use gridsearch to test all values for n_estimators\n",
    "rf_gs = GridSearchCV(rf, params_rf, cv=5)\n",
    "\n",
    "#fit model to training data\n",
    "rf_gs.fit(x2_train, y2_train)\n",
    "\n",
    "#save best model\n",
    "rf_best = rf_gs.best_estimator_\n",
    "\n",
    "#check best n_estimators value\n",
    "print(rf_gs.best_params_)"
   ]
  },
  {
   "cell_type": "code",
   "execution_count": 8,
   "id": "8411443b",
   "metadata": {
    "execution": {
     "iopub.execute_input": "2022-01-21T11:59:05.429385Z",
     "iopub.status.busy": "2022-01-21T11:59:05.428662Z",
     "iopub.status.idle": "2022-01-21T11:59:05.459146Z",
     "shell.execute_reply": "2022-01-21T11:59:05.458474Z",
     "shell.execute_reply.started": "2022-01-21T11:58:19.767761Z"
    },
    "papermill": {
     "duration": 0.049415,
     "end_time": "2022-01-21T11:59:05.459292",
     "exception": false,
     "start_time": "2022-01-21T11:59:05.409877",
     "status": "completed"
    },
    "tags": []
   },
   "outputs": [
    {
     "name": "stdout",
     "output_type": "stream",
     "text": [
      "rf: 0.8181818181818182\n"
     ]
    }
   ],
   "source": [
    "print('rf: {}'.format(rf_best.score(x2_test, y2_test)))"
   ]
  },
  {
   "cell_type": "code",
   "execution_count": null,
   "id": "18d4fbde",
   "metadata": {
    "papermill": {
     "duration": 0.008069,
     "end_time": "2022-01-21T11:59:05.476029",
     "exception": false,
     "start_time": "2022-01-21T11:59:05.467960",
     "status": "completed"
    },
    "tags": []
   },
   "outputs": [],
   "source": []
  }
 ],
 "metadata": {
  "kernelspec": {
   "display_name": "Python 3",
   "language": "python",
   "name": "python3"
  },
  "language_info": {
   "codemirror_mode": {
    "name": "ipython",
    "version": 3
   },
   "file_extension": ".py",
   "mimetype": "text/x-python",
   "name": "python",
   "nbconvert_exporter": "python",
   "pygments_lexer": "ipython3",
   "version": "3.7.12"
  },
  "papermill": {
   "default_parameters": {},
   "duration": 20.816335,
   "end_time": "2022-01-21T11:59:06.697856",
   "environment_variables": {},
   "exception": null,
   "input_path": "__notebook__.ipynb",
   "output_path": "__notebook__.ipynb",
   "parameters": {},
   "start_time": "2022-01-21T11:58:45.881521",
   "version": "2.3.3"
  }
 },
 "nbformat": 4,
 "nbformat_minor": 5
}
